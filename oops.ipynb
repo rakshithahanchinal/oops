{
  "nbformat": 4,
  "nbformat_minor": 0,
  "metadata": {
    "colab": {
      "provenance": []
    },
    "kernelspec": {
      "name": "python3",
      "display_name": "Python 3"
    },
    "language_info": {
      "name": "python"
    }
  },
  "cells": [
    {
      "cell_type": "code",
      "execution_count": null,
      "metadata": {
        "id": "TSKaduGqX5Il"
      },
      "outputs": [],
      "source": []
    },
    {
      "cell_type": "markdown",
      "source": [
        " # OOPS assignment\n",
        " # Theory Questions:\n",
        "\n",
        " 1.What is Object-Oriented Programming (OOP)\n",
        "  - Object-Oriented Programming (OOP) is a programming paradigm that structures software design around the concept of \"objects,\" which are instances of classes and contain both data (attributes) and methods (functions). It promotes modularity, reusability, and maintainability in software development by organizing code into reusable building blocks.\n",
        "Here's a more detailed breakdown:\n",
        "Key Concepts:\n",
        " - Classes: Blueprints or templates for creating objects, defining their attributes (data) and methods (functions).\n",
        " - Objects: Instances of a class, representing individual entities with their own data and behaviors.\n",
        " - Attributes: Data associated with an object, describing its properties.\n",
        " - Methods: Functions or actions that an object can perform, manipulating its data.\n",
        " - Inheritance: A mechanism that allows a class to inherit attributes and methods from another class, promoting code reuse and hierarchical structures.\n",
        " - Encapsulation: The practice of bundling data and the methods that operate on that data within a single unit (the object), hiding internal details and controlling access.\n",
        " - Polymorphism: The ability of objects to take on many forms, allowing different classes to be treated generically.\n",
        " - Abstraction: The process of hiding complex implementation details and presenting a simplified interface to the user.\n",
        "\n",
        " 2.What is a class in OOP\n",
        "  - n Object-Oriented Programming (OOP), a class is a blueprint or template for creating objects, defining their attributes (data) and methods (actions). Think of it as a recipe for creating specific instances of a thing, like a car, where the class \"Car\" defines the general structure and behavior, and individual cars are objects created from that class.\n",
        "\n",
        "3. What is an object in OOP\n",
        " - In Object-Oriented Programming (OOP), an object is a fundamental building block, an instance of a class that encapsulates data and the functions that operate on that data. It's a self-contained unit with its own attributes (data) and behaviors (methods). Objects represent real-world entities or concepts within a program, allowing for modular and organized code.\n",
        "Here's a more detailed breakdown:\n",
        "Key Components of an Object:\n",
        "    - Data (Attributes/Properties):\n",
        "Objects hold data in the form of attributes or properties, which are variables that define the object's state. For example, a \"car\" object might have attributes like \"make\", \"model\", \"color\", and \"year\".\n",
        "    - Functions (Methods/Behaviors):\n",
        "Objects have methods or functions that define their behavior, or the actions they can perform. A \"car\" object might have methods like \"start\", \"stop\", and \"accelerate\".\n",
        "    - Encapsulation:\n",
        "Objects encapsulate their data and methods, meaning they are bundled together and can be treated as a single unit. This promotes code organization and allows for easier manipulation of related data and actions.\n",
        "Objects and Classes:\n",
        "    - Class:\n",
        "A class is a blueprint or template for creating objects. It defines the structure and behavior of all objects that will be created from it.\n",
        "    - Instance:\n",
        "An object is an instance of a class, meaning it's a concrete realization of the class's definition.\n",
        "    - Example:\n",
        "Imagine a \"Dog\" class. You could create multiple dog objects (instances) from this class, each with its own unique attributes (like name, breed, age) and the same set of behaviors (like bark, wagTail) defined by the class.\n",
        "In essence, an object is a self-contained unit of code that combines data and the functions that operate on that data, serving as the fundamental building block of an OOP program.\n",
        "\n",
        "4.What is the difference between abstraction and encapsulation\n",
        " - Abstraction focuses on simplifying complex systems by hiding unnecessary details and exposing only essential functionalities, while encapsulation involves bundling data and methods within a single unit, like a class, to protect and control access to that data.\n",
        "\n",
        "5. H What are dunder methods in Python\n",
        " - Dunder methods in Python, also known as magic or special methods, are predefined methods with double underscores (__) at the beginning and end of their names. They allow you to define how your classes interact with built-in operations and operators, such as addition, comparison, or string representation. Dunder methods are not directly invoked by the programmer; they are automatically called by the Python interpreter when certain operations are performed on an object of the class.\n",
        " - Key aspects of dunder methods:\n",
        "    - Naming Convention:\n",
        "Dunder methods are identified by their name, which always starts and ends with two underscores (e.g., __init__, __str__).\n",
        "    - Operator Overloading:\n",
        "They allow you to overload operators in your classes, meaning you can define how your objects behave when operators like +, -, ==, or > are used.\n",
        "    - Built-in Function Integration:\n",
        "They enable your classes to interact seamlessly with Python's built-in functions and operators.\n",
        " - Examples:\n",
        "Common dunder methods include:\n",
        " - __init__: The constructor for initializing instances of a class.\n",
        " - __str__: Defines how a class instance is represented as a string (e.g., when used in print()).\n",
        " - __repr__: Provides an unambiguous string representation of an object, useful for debugging.\n",
        " - __add__: Defines how objects are added together using the + operator.\n",
        " - __eq__: Defines how objects are compared for equality using the == operator.\n",
        "\n",
        " 6.Explain the concept of inheritance in OOP\n",
        "  - In Object-Oriented Programming (OOP), inheritance is a mechanism where a new class (derived or child class) inherits properties and methods from an existing class (base or parent class), promoting code reuse and hierarchical relationship\n",
        "\n",
        " 7.What is polymorphism in OOP\n",
        "  - In Object-Oriented Programming (OOP), polymorphism allows objects of different classes to be treated as objects of a common interface or superclass, enabling them to behave differently based on their actual type. This \"many forms\" concept, literally \"poly\" + \"morph\", is crucial for code flexibility and extensibility.\n",
        "Here's a more detailed breakdown:\n",
        " - Multiple Forms:\n",
        "Polymorphism means an entity (like an object or method) can have different behaviors based on its underlying class or data type.\n",
        " - Common Interface:\n",
        "Objects of different classes can be treated through a common interface, allowing code to interact with them uniformly.\n",
        " - Key for Flexibility:\n",
        "This allows for adaptable programs that can respond to new requirements without major rewrites.\n",
        " - Examples:\n",
        "    - Method Overriding: A child class can provide its own implementation of a method inherited from its parent class.\n",
        "    - Method Overloading: A class can have multiple methods with the same name but different parameters.\n",
        "\n",
        " 8.   How is encapsulation achieved in Python\n",
        " - In Python, encapsulation, a core object-oriented programming concept, is achieved by bundling data (attributes) and methods that operate on that data within a class, and then controlling access to these attributes and methods using access modifiers (public, protected, and private).\n",
        " - Here's a breakdown:\n",
        " -  Bundling Data and Methods:\n",
        "Create a class to encapsulate data and methods.\n",
        "Define attributes (variables) and methods (functions) within the class to represent the object's state and behavior.\n",
        " -  Access Modifiers (Python Conventions):\n",
        "     - Public:\n",
        "Attributes and methods without any special prefix are considered public and accessible from anywhere.\n",
        "     - Protected:\n",
        "Attributes and methods prefixed with a single underscore (_) are considered protected and intended for internal use within the class and its subclasses.\n",
        "     - Private:\n",
        "Attributes and methods prefixed with double underscores (__) are considered private and intended for use only within the class itself. Python uses \"name mangling\" to make them harder to access directly from outside the class.\n",
        "\n",
        " 9. What is a constructor in Python\n",
        " - In Python, a constructor is a special method, __init__, used to initialize the attributes of a class when a new object (instance) is created. It's automatically called when you instantiate a class, allowing you to set initial values for the object's properties.\n",
        "\n",
        " 10. What are class and static methods in Python\n",
        "  - In Python, a static method is a function within a class that doesn't have access to the class or instance state, while a class method is bound to the class itself (accessed via the class name) and receives the class as its first argument (cls).\n",
        "Here's a more detailed explanation:\n",
        "    1. Static Methods:\n",
        "Definition: Static methods are defined using the @staticmethod decorator.\n",
        "Purpose: They are utility functions that are logically grouped within a class for organization, but don't operate on the class or instance state.\n",
        "Access: Static methods can be called directly on the class (e.g., MyClass.my_static_method()) or on an instance of the class (e.g., instance.my_static_method()).\n",
        "Example:\n",
        "Python\n",
        "\n",
        "    class MathUtils:\n",
        "        @staticmethod\n",
        "        def add(x, y):\n",
        "            return x + y\n",
        "MathUtils.add() can be called as MathUtils.add(2, 3) or instance.add(2,3).\n",
        "    2. Class Methods:\n",
        "Definition: Class methods are defined using the @classmethod decorator.\n",
        "Purpose: They are used when you need to access or modify class-level attributes or implement alternative constructors.\n",
        "Access: Class methods are called on the class (e.g., MyClass.my_class_method()) and receive the class itself as the first argument (conventionally named cls).\n",
        "Example:\n",
        "Python\n",
        "\n",
        "    class MyClass:\n",
        "        class_attribute = \"Hello\"\n",
        "\n",
        "        @classmethod\n",
        "        def get_class_attribute(cls):\n",
        "            return cls.class_attribute\n",
        "\n",
        "11.What is method overloading in Python\n",
        "  - Method overloading, in essence, allows defining multiple methods within a class that share the same name but have different parameter lists or signatures. Python, however, doesn't directly support conventional method overloading like some other languages (e.g., Java). Instead, it achieves the same effect through flexible argument handling techniques like default arguments, variable-length arguments (*args, **kwargs), and conditional logic within the function. This approach provides versatility and reduces code duplication, allowing developers to handle various input scenarios with a single function.\n",
        "\n",
        "12.What is method overriding in OOP\n",
        "   - In Object-Oriented Programming (OOP), method overriding allows a subclass to provide a specific implementation of a method that is already defined in its superclass. This means a subclass can redefine a method inherited from its parent class to perform a different task or behave differently, all while maintaining the same method signature (name and parameters).\n",
        "\n",
        "13.What is a property decorator in Python\n",
        "    - The Python property decorator makes attributes in a class act like read-only properties. Essentially, it lets you access methods as if they were attributes, without needing to write parentheses.\n",
        "\n",
        "14.Why is polymorphism important in OOP\n",
        "- Polymorphism is crucial in Object-Oriented Programming (OOP) because it enables code reusability, flexibility, and maintainability by allowing objects of different classes to be treated as objects of a common type, promoting adaptable and modular software systems.\n",
        "Here's a more detailed explanation:\n",
        " - What it is:\n",
        "Polymorphism, meaning \"many forms,\" allows a single interface or method to represent different underlying forms (data types or classes).\n",
        "- How it's achieved:\n",
        " - Method Overriding: Subclasses can redefine methods inherited from their parent class, allowing for different implementations based on the object's type.\n",
        " - Method Overloading: Multiple methods with the same name but different parameters can exist within the same class, enabling the compiler to choose the appropriate method based on the arguments passed.\n",
        "  - Interface Implementation: Classes can implement interfaces, which define a contract of methods that must be implemented, allowing objects of different classes to be treated as instances of the interface.\n",
        "\n",
        "15.What is an abstract class in Python\n",
        " - In Python, an abstract class is a blueprint for other classes, designed to be subclassed but not instantiated directly, containing one or more abstract methods (methods without implementation) that must be implemented by its subclasses.\n",
        "Here's a more detailed explanation:\n",
        " - Abstract Classes:\n",
        "  - They serve as a template or blueprint for other classes.\n",
        "  - They cannot be directly instantiated (you can't create objects of an abstract class).\n",
        "  - They are designed to be inherited by other classes (subclasses).\n",
        "\n",
        "16.What are the advantages of OOP\n",
        " - bject-Oriented Programming (OOP) offers advantages like improved code organization, reusability through inheritance, enhanced flexibility with polymorphism, and simplification of complex systems through abstraction, leading to modular, maintainable, and scalable software solutions.\n",
        " - Here's a more detailed breakdown of the advantages of OOP:\n",
        "  - Modularity and Organization:\n",
        "OOP promotes modular design by breaking down complex systems into smaller, manageable objects, making code easier to understand, maintain, and modify.\n",
        "  - Code Reusability:\n",
        "OOP enables code reuse through inheritance, where new classes can inherit properties and behaviors from existing ones, reducing redundancy and development time.\n",
        "  - Flexibility and Adaptability:\n",
        "Polymorphism allows objects to behave differently based on their type, enabling flexible and adaptable solutions.\n",
        "  - Simplified Troubleshooting and Debugging:\n",
        "Encapsulation, a key OOP principle, hides internal implementation details, making it easier to isolate and resolve issues without affecting other parts of the code.\n",
        "  - Enhanced Security:\n",
        "Encapsulation and abstraction restrict access to data and methods, improving security and preventing unauthorized access or modification.\n",
        "  - Improved Productivity:\n",
        "OOP principles, such as code reusability and modularity, can lead to increased developer productivity and faster development cycles.\n",
        "  - Scalability:\n",
        "OOP's modular structure and ability to handle complex systems make it easier to scale applications as requirements grow.\n",
        "  - Maintainability:\n",
        "OOP promotes code maintainability by organizing code into logical units (classes and objects), making it easier to update, modify, and debug.\n",
        "  - Better Problem-Solving:\n",
        "OOP encourages a problem-solving approach by breaking down complex problems into smaller, manageable components.\n",
        "\n",
        "17.What is the difference between a class variable and an instance variable\n",
        " - The key difference between a class variable (also known as a static variable) and an instance variable is their scope and how they are accessed. A class variable is shared by all instances of a class, meaning there's only one copy for the entire class. An instance variable, on the other hand, is unique to each instance (object) of the class, with each object having its own separate copy.\n",
        " - Here's a more detailed breakdown:\n",
        "Class Variable (Static Variable):\n",
        "  - Scope:\n",
        "Shared among all instances of the class.\n",
        "  - Access:\n",
        "Accessed directly using the class name, without needing to create an object.\n",
        "  - Purpose:\n",
        "Often used for constants, shared data, or counters that need to be tracked across all instances.\n",
        "  - Example:\n",
        "A variable that keeps track of the total number of instances created from a class, shared by all objects.\n",
        " - Instance Variable:\n",
        "  - Scope: Unique to each instance (object) of the class.\n",
        "  - Access: Accessed through an object reference, meaning you need to create an object to access the instance variable.\n",
        "  - Purpose: Used to store data specific to a particular object or instance.\n",
        "  - Example: A variable that stores the name of an individual, where each object (person) would have its own unique name\n",
        "\n",
        "18.What is multiple inheritance in Python\n",
        " - In Python, multiple inheritance allows a class (the child class) to inherit attributes and methods from multiple parent classes. This means a child class can inherit properties from more than one base class, combining their functionalities.\n",
        "\n",
        "19. Explain the purpose of ‘’__str__’ and ‘__repr__’ ‘ methods in PythonH\n",
        " - In Python, __str__ and __repr__ are special methods (dunder methods) used to define how objects of a class are represented as strings. __str__ provides a human-readable, informal string representation for end-users, while __repr__ provides an unambiguous, formal representation primarily for developers and debugging.\n",
        "Detailed Explanation:\n",
        "-  __str__:\n",
        "  - Used to create a user-friendly, informal string representation of an object.\n",
        "  - Called by the str() function and the print() statement.\n",
        "  - The output of __str__ should be easy to read and understand by users.\n",
        "  - For example, when you print a date object, __str__ might return a nicely formatted date string, suitable for displaying to a user.\n",
        "-  __repr__:\n",
        "  - Used to create a detailed, unambiguous string representation of an object.\n",
        "  - Called by the repr() function and used for debugging and logging.\n",
        "  - The output of __repr__ should be precise and include information useful for developers, such as the object's type and internal state.\n",
        "  - For example, when debugging, __repr__ might return a representation that includes the object's name, class, and attributes, which can help in identifying and understanding the object.\n",
        "\n",
        "20.What is the significance of the ‘super()’ function in Python\n",
        "- In Python, the super() function is a built-in function that allows a subclass to access and call methods of its parent (or super) class, facilitating inheritance and code reusability.\n",
        "Here's a more detailed explanation:\n",
        " - Purpose: super() enables a subclass to invoke methods of its parent class without explicitly naming the parent class, promoting code flexibility and maintainability.\n",
        " - How it works: When used within a subclass, super() returns a proxy object that represents the parent class, allowing you to call methods on that proxy object.\n",
        "\n",
        "21.H What is the significance of the __del__ method in Python\n",
        " - In Python, the __del__() method is referred to as a destructor method. It is called after an object's garbage collection occurs, which happens after all references to the item have been destroyed\n",
        "\n",
        "22. What is the difference between @staticmethod and @classmethod in Python\n",
        " - Use instance methods when your method needs to operate on or modify instance-specific data. Use static methods for utility functions that don't depend on instance or class state. Use class methods when your method needs access to class-specific data or when implementing factory methods.\n",
        "\n",
        "23.How does polymorphism work in Python with inheritance\n",
        "- In Python, polymorphism with inheritance works through method overriding, where child classes can redefine methods inherited from parent classes, allowing the same method name to have different implementations based on the object type.\n",
        "- Here's a breakdown:\n",
        "  - Inheritance:\n",
        "Child classes (subclasses) inherit attributes and methods from parent classes (superclasses).\n",
        "  - Polymorphism:\n",
        "\"Many forms\" - the ability to use the same method name for different classes, but with different behaviors.\n",
        "  - Method Overriding:\n",
        "If a child class needs a specific implementation of a method inherited from the parent, it can redefine that method within the child class.\n",
        "\n",
        "24. What is method chaining in Python OOP\n",
        "- Method chaining in Python allows you to call multiple methods on the same object in a single line of code, improving readability and conciseness. It's achieved by having methods return the object itself (usually self), allowing subsequent method calls to be chained using the dot notation.\n",
        "- Here's a more detailed explanation:\n",
        "  - How it works: Each method in a chain returns the object on which it's called (typically self). This allows the next method in the chain to be called directly on the result of the previous one.\n",
        "- Benefits:\n",
        "  - Readability: It makes code more fluent and easier to understand by visually representing the sequence of operations.\n",
        "  - Conciseness: It avoids the need for temporary variables to store intermediate results.\n",
        "  - Efficiency: It can be more efficient than using temporary variables in certain cases.\n",
        "\n",
        "25.What is the purpose of the __call__ method in Python\n",
        "- The purpose of the __call__ method in Python is to make instances of a class callable, allowing them to be invoked like functions. When you define a __call__ method within a class, you enable instances of that class to be called using parentheses, as if they were functions.\n",
        "\n"
      ],
      "metadata": {
        "id": "nkF3rqy8X6PM"
      }
    },
    {
      "cell_type": "code",
      "source": [
        "#  1. Create a parent class Animal with a method speak() that prints a generic message. Create a child class Dog that overrides the speak() method to print \"Bark!\".\n",
        "\n",
        "class Animal:\n",
        "    def speak(self):\n",
        "        print(\"Generic animal sound\")\n",
        "\n",
        "class Dog(Animal):\n",
        "    def speak(self):\n",
        "        print(\"Bark!\")\n",
        "\n",
        "# Example usage\n",
        "animal = Animal()\n",
        "animal.speak()  # Output: Generic animal sound\n",
        "\n",
        "dog = Dog()\n",
        "dog.speak()  # Output: Bark!\n"
      ],
      "metadata": {
        "colab": {
          "base_uri": "https://localhost:8080/"
        },
        "id": "iOXSxATWDTiI",
        "outputId": "99e73054-c365-4aca-bbec-11da0f53dbd2"
      },
      "execution_count": 1,
      "outputs": [
        {
          "output_type": "stream",
          "name": "stdout",
          "text": [
            "Generic animal sound\n",
            "Bark!\n"
          ]
        }
      ]
    },
    {
      "cell_type": "code",
      "source": [
        "# 2. Write a program to create an abstract class Shape with a method area(). Derive classes Circle and Rectangle from it and implement the area() method in both.\n",
        "\n",
        "from abc import ABC, abstractmethod\n",
        "import math\n",
        "\n",
        "class Shape(ABC):\n",
        "    @abstractmethod\n",
        "    def area(self):\n",
        "        pass\n",
        "\n",
        "class Circle(Shape):\n",
        "    def __init__(self, radius):\n",
        "        self.radius = radius\n",
        "\n",
        "    def area(self):\n",
        "        return math.pi * self.radius**2\n",
        "\n",
        "class Rectangle(Shape):\n",
        "    def __init__(self, width, height):\n",
        "        self.width = width\n",
        "        self.height = height\n",
        "\n",
        "    def area(self):\n",
        "        return self.width * self.height\n",
        "\n",
        "# Example usage\n",
        "circle = Circle(5)\n",
        "print(\"Circle area:\", circle.area())\n",
        "\n",
        "rectangle = Rectangle(4, 6)\n",
        "print(\"Rectangle area:\", rectangle.area())\n"
      ],
      "metadata": {
        "colab": {
          "base_uri": "https://localhost:8080/"
        },
        "id": "31uc4yLCDTlM",
        "outputId": "99e1333f-322c-4a1b-ad1c-bf59979ed24e"
      },
      "execution_count": 2,
      "outputs": [
        {
          "output_type": "stream",
          "name": "stdout",
          "text": [
            "Circle area: 78.53981633974483\n",
            "Rectangle area: 24\n"
          ]
        }
      ]
    },
    {
      "cell_type": "code",
      "source": [
        "# 3 . Implement a multi-level inheritance scenario where a class Vehicle has an attribute type. Derive a class Car\n",
        "# and further derive a class ElectricCar that adds a battery attribute.\n",
        "\n",
        "class Vehicle:\n",
        "    def __init__(self, vehicle_type):\n",
        "        self.type = vehicle_type\n",
        "\n",
        "class Car(Vehicle):\n",
        "    def __init__(self, vehicle_type, model):\n",
        "        super().__init__(vehicle_type)\n",
        "        self.model = model\n",
        "\n",
        "class ElectricCar(Car):\n",
        "    def __init__(self, vehicle_type, model, battery_capacity):\n",
        "        super().__init__(vehicle_type, model)\n",
        "        self.battery = battery_capacity\n",
        "\n",
        "# Example usage\n",
        "electric_car = ElectricCar(\"Electric\", \"Tesla Model S\", \"100 kWh\")\n",
        "print(f\"Vehicle Type: {electric_car.type}\")\n",
        "print(f\"Model: {electric_car.model}\")\n",
        "print(f\"Battery Capacity: {electric_car.battery}\")\n"
      ],
      "metadata": {
        "colab": {
          "base_uri": "https://localhost:8080/"
        },
        "id": "mBoqTCA7DToT",
        "outputId": "4b05e7d9-8bd0-4352-e144-52116fbe4445"
      },
      "execution_count": 3,
      "outputs": [
        {
          "output_type": "stream",
          "name": "stdout",
          "text": [
            "Vehicle Type: Electric\n",
            "Model: Tesla Model S\n",
            "Battery Capacity: 100 kWh\n"
          ]
        }
      ]
    },
    {
      "cell_type": "code",
      "source": [
        "# 4. Demonstrate polymorphism by creating a base class Bird with a method fly(). Create two derived classes Sparrow and Penguin that override the fly() method.\n",
        "\n",
        "from abc import ABC, abstractmethod\n",
        "import math\n",
        "\n",
        "class Bird(ABC):\n",
        "    @abstractmethod\n",
        "    def fly(self):\n",
        "        pass\n",
        "\n",
        "class Sparrow(Bird):\n",
        "    def fly(self):\n",
        "        print(\"Sparrow is flying.\")\n",
        "\n",
        "class Penguin(Bird):\n",
        "    def fly(self):\n",
        "        print(\"Penguin cannot fly.\")\n",
        "\n",
        "# Example usage\n",
        "sparrow = Sparrow()\n",
        "sparrow.fly()  # Output: Sparrow is flying.\n",
        "\n",
        "penguin = Penguin()\n",
        "penguin.fly()  # Output: Penguin cannot fly.\n"
      ],
      "metadata": {
        "colab": {
          "base_uri": "https://localhost:8080/"
        },
        "id": "Kyjyx0_IDTsB",
        "outputId": "4ac79533-895a-4841-ba37-95b8603bf632"
      },
      "execution_count": 4,
      "outputs": [
        {
          "output_type": "stream",
          "name": "stdout",
          "text": [
            "Sparrow is flying.\n",
            "Penguin cannot fly.\n"
          ]
        }
      ]
    },
    {
      "cell_type": "code",
      "source": [
        "#  5. Write a program to demonstrate encapsulation by creating a class BankAccount with private attributes balance and methods to deposit, withdraw, and check balance.\n",
        "\n",
        "class BankAccount:\n",
        "    def __init__(self, initial_balance=0):\n",
        "        self.__balance = initial_balance  # Private attribute\n",
        "\n",
        "    def deposit(self, amount):\n",
        "        if amount > 0:\n",
        "            self.__balance += amount\n",
        "            print(\"Deposit successful. New balance:\", self.__balance)\n",
        "        else:\n",
        "            print(\"Invalid deposit amount.\")\n",
        "\n",
        "    def withdraw(self, amount):\n",
        "        if 0 < amount <= self.__balance:\n",
        "            self.__balance -= amount\n",
        "            print(\"Withdrawal successful. New balance:\", self.__balance)\n",
        "        else:\n",
        "            print(\"Insufficient funds or invalid withdrawal amount.\")\n",
        "\n",
        "    def check_balance(self):\n",
        "        print(\"Current balance:\", self.__balance)\n",
        "\n",
        "# Example usage\n",
        "account = BankAccount(1000)\n",
        "account.deposit(500)  # Output: Deposit successful. New balance: 1500\n",
        "account.withdraw(200) # Output: Withdrawal successful. New balance: 1300\n",
        "account.check_balance() # Output: Current balance: 1300\n",
        "account.withdraw(2000) # Output: Insufficient funds or invalid withdrawal amount.\n",
        "account.__balance = 5000 # Trying to access private attribute directly, will not work.\n",
        "account.check_balance() # Still 1300\n",
        "\n",
        "\n"
      ],
      "metadata": {
        "colab": {
          "base_uri": "https://localhost:8080/"
        },
        "id": "YwaoAsJ9EDmE",
        "outputId": "f795dd64-f532-4f3e-f422-5d7226eaec1c"
      },
      "execution_count": 5,
      "outputs": [
        {
          "output_type": "stream",
          "name": "stdout",
          "text": [
            "Deposit successful. New balance: 1500\n",
            "Withdrawal successful. New balance: 1300\n",
            "Current balance: 1300\n",
            "Insufficient funds or invalid withdrawal amount.\n",
            "Current balance: 1300\n"
          ]
        }
      ]
    },
    {
      "cell_type": "code",
      "source": [
        "# 6. Demonstrate runtime polymorphism using a method play() in a base class Instrument. Derive classes Guitar and Piano that implement their own version of play().\n",
        "\n",
        "from abc import ABC, abstractmethod\n",
        "\n",
        "class Instrument(ABC):\n",
        "    @abstractmethod\n",
        "    def play(self):\n",
        "        pass\n",
        "\n",
        "class Guitar(Instrument):\n",
        "    def play(self):\n",
        "        print(\"Playing the guitar\")\n",
        "\n",
        "class Piano(Instrument):\n",
        "    def play(self):\n",
        "        print(\"Playing the piano\")\n",
        "\n",
        "# Example usage\n",
        "guitar = Guitar()\n",
        "guitar.play()  # Output: Playing the guitar\n",
        "\n",
        "piano = Piano()\n",
        "piano.play()  # Output: Playing the piano\n",
        "\n",
        "instruments = [Guitar(), Piano()]\n",
        "for instrument in instruments:\n",
        "    instrument.play()\n"
      ],
      "metadata": {
        "colab": {
          "base_uri": "https://localhost:8080/"
        },
        "id": "wrG8IQa0EDpu",
        "outputId": "f1761e03-0115-4199-9675-248312c03863"
      },
      "execution_count": 6,
      "outputs": [
        {
          "output_type": "stream",
          "name": "stdout",
          "text": [
            "Playing the guitar\n",
            "Playing the piano\n",
            "Playing the guitar\n",
            "Playing the piano\n"
          ]
        }
      ]
    },
    {
      "cell_type": "code",
      "source": [
        "# 7. Create a class MathOperations with a class method add_numbers() to add two numbers and a static\n",
        "# method subtract_numbers() to subtract two numbers.\n",
        "\n",
        "class MathOperations:\n",
        "    @classmethod\n",
        "    def add_numbers(cls, x, y):\n",
        "        return x + y\n",
        "\n",
        "    @staticmethod\n",
        "    def subtract_numbers(x, y):\n",
        "        return x - y\n"
      ],
      "metadata": {
        "id": "QbpU3gz_EDtH"
      },
      "execution_count": 8,
      "outputs": []
    },
    {
      "cell_type": "code",
      "source": [
        "#8. Implement a class Person with a class method to count the total number of persons created.\n",
        "\n",
        "class Person:\n",
        "    count = 0  # Class variable to track the number of persons\n",
        "\n",
        "    def __init__(self, name):\n",
        "        self.name = name\n",
        "        Person.count += 1\n",
        "\n",
        "    @classmethod\n",
        "    def get_person_count(cls):\n",
        "        return cls.count\n",
        "\n",
        "\n",
        "# Example usage\n",
        "person1 = Person(\"Alice\")\n",
        "person2 = Person(\"Bob\")\n",
        "person3 = Person(\"Charlie\")\n",
        "\n",
        "print(\"Total number of persons:\", Person.get_person_count())  # Output: 3\n"
      ],
      "metadata": {
        "colab": {
          "base_uri": "https://localhost:8080/"
        },
        "id": "T0l318McE5qT",
        "outputId": "4a8e5003-5770-4b8b-cd2f-07ee93bfe4c0"
      },
      "execution_count": 9,
      "outputs": [
        {
          "output_type": "stream",
          "name": "stdout",
          "text": [
            "Total number of persons: 3\n"
          ]
        }
      ]
    },
    {
      "cell_type": "code",
      "source": [
        "# 9. Write a class Fraction with attributes numerator and denominator. Override the str method to display the\n",
        "# fraction as \"numerator/denominator\".\n",
        "\n",
        "class Fraction:\n",
        "    def __init__(self, numerator, denominator):\n",
        "        self.numerator = numerator\n",
        "        self.denominator = denominator\n",
        "\n",
        "    def __str__(self):\n",
        "        return f\"{self.numerator}/{self.denominator}\"\n"
      ],
      "metadata": {
        "id": "ONXHT86sE5s2"
      },
      "execution_count": 10,
      "outputs": []
    },
    {
      "cell_type": "code",
      "source": [
        "# 10. Demonstrate operator overloading by creating a class Vector and overriding the add method to add two\n",
        "# vectors.\n",
        "\n",
        "class Vector:\n",
        "    def __init__(self, x, y):\n",
        "        self.x = x\n",
        "        self.y = y\n",
        "\n",
        "    def __add__(self, other):\n",
        "        return Vector(self.x + other.x, self.y + other.y)\n",
        "\n",
        "    def __str__(self):\n",
        "        return f\"({self.x}, {self.y})\"\n",
        "\n",
        "# Example usage\n",
        "v1 = Vector(1, 2)\n",
        "v2 = Vector(3, 4)\n",
        "v3 = v1 + v2\n",
        "print(v3)  # Output: (4, 6)\n"
      ],
      "metadata": {
        "colab": {
          "base_uri": "https://localhost:8080/"
        },
        "id": "VqT8oZaqE5v8",
        "outputId": "b112cad9-b7df-4818-d43c-b2f63c764f86"
      },
      "execution_count": 11,
      "outputs": [
        {
          "output_type": "stream",
          "name": "stdout",
          "text": [
            "(4, 6)\n"
          ]
        }
      ]
    },
    {
      "cell_type": "code",
      "source": [
        "# 11. Create a class Person with attributes name and age. Add a method greet() that prints \"Hello, my name is\n",
        "# {name} and I am {age} years old.\"\n",
        "\n",
        "class Person:\n",
        "    def __init__(self, name, age):\n",
        "        self.name = name\n",
        "        self.age = age\n",
        "\n",
        "    def greet(self):\n",
        "        print(f\"Hello, my name is {self.name} and I am {self.age} years old.\")\n"
      ],
      "metadata": {
        "id": "5UUMzDX1E5zR"
      },
      "execution_count": 13,
      "outputs": []
    },
    {
      "cell_type": "code",
      "source": [
        "# 12. Implement a class Student with attributes name and grades. Create a method average_grade() to compute\n",
        "# the average of the grades.\n",
        "\n",
        "class Student:\n",
        "    def __init__(self, name, grades):\n",
        "        self.name = name\n",
        "        self.grades = grades\n",
        "\n",
        "    def average_grade(self):\n",
        "        if not self.grades:\n",
        "            return 0  # Handle empty grades list\n",
        "        return sum(self.grades) / len(self.grades)\n"
      ],
      "metadata": {
        "id": "EHPga_flFgtD"
      },
      "execution_count": 14,
      "outputs": []
    },
    {
      "cell_type": "code",
      "source": [
        "#13. Create a class Rectangle with methods set_dimensions() to set the dimensions and area() to calculate the\n",
        "# area.\n",
        "\n",
        "class Rectangle:\n",
        "    def set_dimensions(self, width, height):\n",
        "        self.width = width\n",
        "        self.height = height\n",
        "\n",
        "    def area(self):\n",
        "        return self.width * self.height\n"
      ],
      "metadata": {
        "id": "hHpdLbONFgv2"
      },
      "execution_count": 15,
      "outputs": []
    },
    {
      "cell_type": "code",
      "source": [
        "# prompt: 14. Create a class Employee with a method calculate_salary() that computes the salary based on hours worked\n",
        "# and hourly rate. Create a derived class Manager that adds a bonus to the salary.\n",
        "\n",
        "class Employee:\n",
        "    def __init__(self, hours_worked, hourly_rate):\n",
        "        self.hours_worked = hours_worked\n",
        "        self.hourly_rate = hourly_rate\n",
        "\n",
        "    def calculate_salary(self):\n",
        "        return self.hours_worked * self.hourly_rate\n",
        "\n",
        "class Manager(Employee):\n",
        "    def __init__(self, hours_worked, hourly_rate, bonus):\n",
        "        super().__init__(hours_worked, hourly_rate)\n",
        "        self.bonus = bonus\n",
        "\n",
        "    def calculate_salary(self):\n",
        "        return super().calculate_salary() + self.bonus\n"
      ],
      "metadata": {
        "id": "53e7duvNFgyR"
      },
      "execution_count": 16,
      "outputs": []
    },
    {
      "cell_type": "code",
      "source": [
        "#  15. Create a class Product with attributes name, price, and quantity. Implement a method total_price() that\n",
        "# calculates the total price of the product\n",
        "\n",
        "class Product:\n",
        "    def __init__(self, name, price, quantity):\n",
        "        self.name = name\n",
        "        self.price = price\n",
        "        self.quantity = quantity\n",
        "\n",
        "    def total_price(self):\n",
        "        return self.price * self.quantity\n"
      ],
      "metadata": {
        "id": "X7tXWLkTFg10"
      },
      "execution_count": 17,
      "outputs": []
    },
    {
      "cell_type": "code",
      "source": [
        "#  16. Create a class Animal with an abstract method sound(). Create two derived classes Cow and Sheep that\n",
        "# implement the sound() method.\n",
        "\n",
        "from abc import ABC, abstractmethod\n",
        "\n",
        "class Animal(ABC):\n",
        "    @abstractmethod\n",
        "    def sound(self):\n",
        "        pass\n",
        "\n",
        "class Cow(Animal):\n",
        "    def sound(self):\n",
        "        print(\"Moo\")\n",
        "\n",
        "class Sheep(Animal):\n",
        "    def sound(self):\n",
        "        print(\"Baa\")\n"
      ],
      "metadata": {
        "id": "JIe-tZHVGY9G"
      },
      "execution_count": 19,
      "outputs": []
    },
    {
      "cell_type": "code",
      "source": [
        "# 17. Create a class Book with attributes title, author, and year_published. Add a method get_book_info() that\n",
        "# returns a formatted string with the book's details\n",
        "\n",
        "class Book:\n",
        "    def __init__(self, title, author, year_published):\n",
        "        self.title = title\n",
        "        self.author = author\n",
        "        self.year_published = year_published\n",
        "\n",
        "    def get_book_info(self):\n",
        "        return f\"Title: {self.title}, Author: {self.author}, Year Published: {self.year_published}\"\n"
      ],
      "metadata": {
        "id": "SPZ_DfQSGY_u"
      },
      "execution_count": 21,
      "outputs": []
    },
    {
      "cell_type": "code",
      "source": [
        "# 18. Create a class House with attributes address and price. Create a derived class Mansion that adds an\n",
        "# attribute number_of_rooms\n",
        "\n",
        "class House:\n",
        "    def __init__(self, address, price):\n",
        "        self.address = address\n",
        "        self.price = price\n",
        "\n",
        "class Mansion(House):\n",
        "    def __init__(self, address, price, number_of_rooms):\n",
        "        super().__init__(address, price)\n",
        "        self.number_of_rooms = number_of_rooms\n"
      ],
      "metadata": {
        "id": "E3aUza7aGZC6"
      },
      "execution_count": 23,
      "outputs": []
    },
    {
      "cell_type": "code",
      "source": [],
      "metadata": {
        "id": "RsrVBu8nGZGb"
      },
      "execution_count": null,
      "outputs": []
    },
    {
      "cell_type": "code",
      "source": [],
      "metadata": {
        "id": "yMmFVhJBGZLK"
      },
      "execution_count": null,
      "outputs": []
    }
  ]
}